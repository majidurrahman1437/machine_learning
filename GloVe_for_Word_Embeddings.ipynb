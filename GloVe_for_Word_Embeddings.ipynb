{
 "cells": [
  {
   "cell_type": "code",
   "execution_count": 2,
   "metadata": {},
   "outputs": [
    {
     "data": {
      "text/plain": [
       "(400000, 50)"
      ]
     },
     "execution_count": 2,
     "metadata": {},
     "output_type": "execute_result"
    }
   ],
   "source": [
    "from gensim.scripts.glove2word2vec import glove2word2vec\n",
    "glove_input_file = 'Datasets/StanfordGloVe/glove.6B.50d.txt'\n",
    "word2vec_output_file = 'Datasets/StanfordGloVe/glove.6B.50d.txt.word2vec'\n",
    "glove2word2vec(glove_input_file, word2vec_output_file)"
   ]
  },
  {
   "cell_type": "code",
   "execution_count": 5,
   "metadata": {},
   "outputs": [
    {
     "name": "stderr",
     "output_type": "stream",
     "text": [
      "C:\\Users\\Saad\\Anaconda3\\lib\\site-packages\\gensim\\matutils.py:737: FutureWarning: Conversion of the second argument of issubdtype from `int` to `np.signedinteger` is deprecated. In future, it will be treated as `np.int32 == np.dtype(int).type`.\n",
      "  if np.issubdtype(vec.dtype, np.int):\n"
     ]
    },
    {
     "name": "stdout",
     "output_type": "stream",
     "text": [
      "[('queen', 0.8523603677749634)]\n"
     ]
    }
   ],
   "source": [
    "from gensim.models import KeyedVectors\n",
    "\n",
    "#load the Stanford GloVe model\n",
    "filename = 'Datasets/StanfordGloVe/glove.6B.50d.txt.word2vec'\n",
    "model = KeyedVectors.load_word2vec_format(filename, binary = False)\n",
    "\n",
    "#Calculate: (king-man)+woman=?\n",
    "result = model.most_similar(positive = ['king', 'woman'], negative = ['man'], topn = 1)\n",
    "print(result)"
   ]
  },
  {
   "cell_type": "code",
   "execution_count": 6,
   "metadata": {},
   "outputs": [
    {
     "data": {
      "text/plain": [
       "(400000, 100)"
      ]
     },
     "execution_count": 6,
     "metadata": {},
     "output_type": "execute_result"
    }
   ],
   "source": [
    "glove_input_file_100 = 'Datasets/StanfordGloVe/glove.6B.100d.txt'\n",
    "word2vec_output_file_100 = 'Datasets/StanfordGloVe/glove.6B.100d.txt.word2vec'\n",
    "glove2word2vec(glove_input_file_100, word2vec_output_file_100)"
   ]
  },
  {
   "cell_type": "code",
   "execution_count": 7,
   "metadata": {},
   "outputs": [
    {
     "name": "stdout",
     "output_type": "stream",
     "text": [
      "[('queen', 0.7698541283607483)]\n"
     ]
    },
    {
     "name": "stderr",
     "output_type": "stream",
     "text": [
      "C:\\Users\\Saad\\Anaconda3\\lib\\site-packages\\gensim\\matutils.py:737: FutureWarning: Conversion of the second argument of issubdtype from `int` to `np.signedinteger` is deprecated. In future, it will be treated as `np.int32 == np.dtype(int).type`.\n",
      "  if np.issubdtype(vec.dtype, np.int):\n"
     ]
    }
   ],
   "source": [
    "#Load the Stanford GloVe model-100\n",
    "filename_100 = 'Datasets/StanfordGloVe/glove.6B.100d.txt.word2vec'\n",
    "model_100 = KeyedVectors.load_word2vec_format(filename_100, binary = False)\n",
    "\n",
    "#Calculate: (king-man)+woman=?\n",
    "result_100 = model_100.most_similar(positive = ['king', 'woman'], negative = ['man'], topn=1)\n",
    "print(result_100)"
   ]
  },
  {
   "cell_type": "code",
   "execution_count": 8,
   "metadata": {},
   "outputs": [
    {
     "data": {
      "text/plain": [
       "(400000, 300)"
      ]
     },
     "execution_count": 8,
     "metadata": {},
     "output_type": "execute_result"
    }
   ],
   "source": [
    "glove_input_file_300 = 'Datasets/StanfordGloVe/glove.6B.300d.txt'\n",
    "word2vec_output_file_300 = 'Datasets/StanfordGloVe/glove.6B.300d.txt.word2vec'\n",
    "glove2word2vec(glove_input_file_300, word2vec_output_file_300)"
   ]
  },
  {
   "cell_type": "code",
   "execution_count": null,
   "metadata": {},
   "outputs": [],
   "source": [
    "#Load the Stanford GloVe Model-300\n",
    "filename_300 = 'Datasets/StanfordGloVe/glove.6B.300d.txt.word2vec'\n",
    "model_300 = KeyedVectors.load_word2vec_format(filename_300, binary = False)\n",
    "\n",
    "#Calculate: (king-man)+woman=?\n",
    "result_300 = model_300.most_similar(positive = ['king', 'woman'], negative = ['man'], topn = 1)\n",
    "print(result_300)"
   ]
  },
  {
   "cell_type": "code",
   "execution_count": null,
   "metadata": {},
   "outputs": [],
   "source": []
  }
 ],
 "metadata": {
  "kernelspec": {
   "display_name": "Python 3",
   "language": "python",
   "name": "python3"
  },
  "language_info": {
   "codemirror_mode": {
    "name": "ipython",
    "version": 3
   },
   "file_extension": ".py",
   "mimetype": "text/x-python",
   "name": "python",
   "nbconvert_exporter": "python",
   "pygments_lexer": "ipython3",
   "version": "3.7.0"
  }
 },
 "nbformat": 4,
 "nbformat_minor": 2
}
